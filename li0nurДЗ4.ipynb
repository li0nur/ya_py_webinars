{
 "cells": [
  {
   "cell_type": "markdown",
   "metadata": {},
   "source": [
    "### Большая часть задач требует операций с файлами, поэтому для воспроизводимости результатов работы кода эти файлы нужно создавать\n",
    "\n",
    "Ниже приведен блок, обязательный к исполнению, чтобы задания ниже были рабочими."
   ]
  },
  {
   "cell_type": "code",
   "execution_count": 1,
   "metadata": {
    "collapsed": false
   },
   "outputs": [],
   "source": [
    "# импорт модулей, которые будут использоваться далее\n",
    "import os, chardet, random\n",
    "from shutil import copy\n",
    "\n",
    "\n",
    "# Определим вспомогательные функции, которые далее будут использоваться в заданиях.\n",
    "# Ф-ия проверки существования пути и его создания, при необходимости.\n",
    "def check_path(target_path):\n",
    "    \n",
    "    if not os.path.exists(target_path):\n",
    "        os.makedirs(target_path)\n",
    "\n",
    "\n",
    "# Ф-ия проверки кодировки и перевода в Unicode\n",
    "def my_decoder(val):\n",
    "    \n",
    "    if type(val) is unicode:\n",
    "        return val\n",
    "    else:\n",
    "        return unicode(val, encoding=chardet.detect(val)['encoding'])\n",
    "\n",
    "\n",
    "# Ф-ия генерации файлов и директорий для задания 2.1.\n",
    "def generate_sample_files_and_dirs(target_path, file_cnt=10, copies_cnt=2, dir_cnt=5):\n",
    "    \n",
    "    \"\"\"\n",
    "    Функция генерации случайных файлов и директорий.\n",
    "    Создает file_cnt+copies файлов и dir_cnt директорий.\n",
    "    \n",
    "    target_path - директория, где будут созданы случайные файлы;\n",
    "    file_cnt - количество уникальных файлов;\n",
    "    copies_cnt - количество копий файлов;\n",
    "    dir_cnt - количество директорий.\n",
    "    \"\"\"\n",
    "    \n",
    "    # создаем target _path, если его нет\n",
    "    check_path(target_path)\n",
    "    # генерируем список случайных int'ов (будем использовать для длины случайной последовательности байт)\n",
    "    length_list = [random.randint(100000, 1000000) for i in range(file_cnt)]\n",
    "    # задаем последовательность [0-9][A-z] (необходима для генерации имен файлов)\n",
    "    symbols = [chr(x) for x in range(ord('A'), ord('Z')+1)] +\\\n",
    "              [chr(x) for x in range(ord('a'), ord('z')+1)] +\\\n",
    "              map(str, range(10))\n",
    "    # генерируем случайные списки имен файлов и директорий от 5 до 10 символов\n",
    "    filenames_list = [''.join(random.sample(symbols, random.randint(5,10))) for i in range(file_cnt)]\n",
    "    file_copies_list = [''.join(random.sample(symbols, random.randint(5,10))) for i in range(copies_cnt)]\n",
    "    dirs_list = [''.join(random.sample(symbols, random.randint(5,10))) for i in range(dir_cnt)]\n",
    "    # создаем файлы\n",
    "    for filename, byte_length in zip(filenames_list, length_list):\n",
    "        with open(os.path.join(target_path, filename), 'w') as f:\n",
    "            f.write(os.urandom(byte_length))\n",
    "    # создаем копии файлов\n",
    "    for s_file, t_file in zip(random.sample(os.listdir(target_path), copies_cnt), file_copies_list):\n",
    "        source_file = os.path.join(target_path, s_file)\n",
    "        target_file = os.path.join(target_path, t_file)\n",
    "        copy(source_file, target_file)\n",
    "    # создаем директории\n",
    "    for directory in dirs_list:\n",
    "        check_path(os.path.join(target_path, directory))\n",
    "\n",
    "\n",
    "        \n",
    "# создадим рабочую директорию\n",
    "tmp_dir_name = 'tmp_dir_for_4hw'\n",
    "check_path(tmp_dir_name)\n",
    "\n",
    "# и исходные файлы для заданий\n",
    "#1.1\n",
    "text = \"\"\"123\n",
    "4567\n",
    " 8910\n",
    "\"\"\"\n",
    "with open(os.path.join(tmp_dir_name, 'task_1.1_source'), 'w') as f:\n",
    "    f.write(text)\n",
    "\n",
    "#1.2    \n",
    "eng_lat = \"\"\"apple - malum, pomum, popula\n",
    "fruit - baca, bacca, popum\n",
    "punishment - malum, multa\n",
    "art - ars, artificium, sollertia, fabrica, professio\n",
    "technique - ars\n",
    "skill - peritia, ars, scientia, sollertia, queentia, hexis\n",
    "\"\"\"\n",
    "with open(os.path.join(tmp_dir_name, 'task_1.2_source'), 'w') as f:\n",
    "    f.write(eng_lat)\n",
    "    \n",
    "#2.2\n",
    "eng_rus = \"\"\"heap - куча, ворох, груда, отвал, масса, множество\n",
    "technique - техника, метод, способ, технические приемы\n",
    "club - клуб, дубинка, булава, клюшка, трефы\n",
    "mechanism - механизм, устройство, аппарат, техника\n",
    "hockey-stick - клюшка\n",
    "mountain - гора, куча, множество, масса\n",
    "\"\"\"\n",
    "with open(os.path.join(tmp_dir_name, 'task_2.2_source'), 'w') as f:\n",
    "    f.write(eng_rus)\n",
    "\n",
    "#3.2\n",
    "text1 = \"\"\"country\n",
    "арбуз и дыня\n",
    "asdE,45kl\n",
    "sollertia\n",
    "тест непечатного символа\n",
    "\"\"\"\n",
    "text2 = \"\"\"countryman\n",
    "Яблоко\n",
    "фывА!\n",
    "sollertia\n",
    "тест непечатного символа\\t\n",
    "smth. else...\n",
    "\"\"\"\n",
    "with open(os.path.join(tmp_dir_name, 'task_3.2.1_source'), 'w') as f1, open(os.path.join(tmp_dir_name, 'task_3.2.2_source'), 'w') as f2:\n",
    "    f1.write(text1)\n",
    "    f2.write(text2)"
   ]
  },
  {
   "cell_type": "code",
   "execution_count": 2,
   "metadata": {
    "collapsed": false
   },
   "outputs": [
    {
     "name": "stdout",
     "output_type": "stream",
     "text": [
      "123\r\n",
      "4567\r\n",
      " 8910\r\n"
     ]
    }
   ],
   "source": [
    "!cat tmp_dir_for_4hw/task_1.1_source"
   ]
  },
  {
   "cell_type": "markdown",
   "metadata": {},
   "source": [
    "### Workaround для Windows\n",
    "\n",
    "Ниже:\n",
    "\n",
    "1) Приведен вывод аналога команды cat для Windows."
   ]
  },
  {
   "cell_type": "code",
   "execution_count": 2,
   "metadata": {
    "collapsed": false
   },
   "outputs": [
    {
     "name": "stdout",
     "output_type": "stream",
     "text": [
      "123\n",
      "4567\n",
      " 8910\n"
     ]
    }
   ],
   "source": [
    "!type tmp_dir_for_4hw\\task_1.1_source"
   ]
  },
  {
   "cell_type": "markdown",
   "metadata": {},
   "source": [
    "2) Определена функция print_cmd(), позволяющая кракозябры превратить в кириллицу."
   ]
  },
  {
   "cell_type": "code",
   "execution_count": 3,
   "metadata": {
    "collapsed": true
   },
   "outputs": [],
   "source": [
    "def print_cmd(command_output, encoding='IBM866'):\n",
    "    \n",
    "    for line in command_output:\n",
    "        # в этом if-е происходит замена абсолютного пути на относительный (маленький элемент паранойи) )))\n",
    "        if 'C:\\\\' in line:\n",
    "            line = line.upper()\n",
    "            HIDE_PATH = slice(line.index('C:\\\\'), line.index('\\\\IPYTHON'.upper()))\n",
    "            line = line.replace(line[HIDE_PATH], '.')\n",
    "        print line.decode(encoding)"
   ]
  },
  {
   "cell_type": "markdown",
   "metadata": {},
   "source": [
    "3) Приведен пример использования этой функции."
   ]
  },
  {
   "cell_type": "code",
   "execution_count": 4,
   "metadata": {
    "collapsed": false
   },
   "outputs": [
    {
     "name": "stdout",
     "output_type": "stream",
     "text": [
      " Том в устройстве C не имеет метки.\n",
      " Серийный номер тома: 9045-F648\n",
      "\n",
      " Содержимое папки .\\IPYTHON\\TMP_DIR_FOR_4HW\n",
      "\n",
      "10.06.2017  20:37    <DIR>          .\n",
      "10.06.2017  20:37    <DIR>          ..\n",
      "10.06.2017  20:37    <DIR>          go_more_deeper\n",
      "10.06.2017  20:37    <DIR>          random_file_dir\n",
      "10.06.2017  20:33                18 task_1.1_source\n",
      "10.06.2017  20:33               216 task_1.2_source\n",
      "10.06.2017  20:33               425 task_2.2_source\n",
      "10.06.2017  20:33               103 task_3.2.1_source\n",
      "10.06.2017  20:33               112 task_3.2.2_source\n",
      "               5 файлов            874 байт\n",
      "               4 папок   1 564 954 624 байт свободно\n",
      "--------------------------------------------------------------------------------\n",
      "Структура папок\n",
      "Серийный номер тома: 9045-F648\n",
      ".\\IPYTHON\\TMP_DIR_FOR_4HW\n",
      "├───go_more_deeper\n",
      "│   └───deepest_way\n",
      "└───random_file_dir\n",
      "    ├───s9KuhlXip\n",
      "    └───sBJalMmi\n"
     ]
    }
   ],
   "source": [
    "cmd1 = !dir tmp_dir_for_4hw\n",
    "cmd2 = !tree tmp_dir_for_4hw\n",
    "\n",
    "print_cmd(cmd1, chardet.detect('\\n'.join(cmd1))['encoding'])\n",
    "print '-' * 80\n",
    "print_cmd(cmd2)"
   ]
  },
  {
   "cell_type": "markdown",
   "metadata": {},
   "source": [
    "# Базовый уровень"
   ]
  },
  {
   "cell_type": "markdown",
   "metadata": {},
   "source": [
    "## Задание 1.1\n",
    "\n",
    "Напишите функцию, копирующую файл\n",
    "\n",
    "source_path должен существовать, а отсутствующие промежуточные папки из target_path должны быть созданы\n",
    "\n",
    "Подсказка: можно прочитать исходный файл и записать в новый. \n",
    "\n",
    "Опциональное усложнение: попробуйте написать так, чтобы функция работала и с большими файлами (нужно, чтобы содежимое файла не считывалось полностью в память)"
   ]
  },
  {
   "cell_type": "code",
   "execution_count": 5,
   "metadata": {
    "collapsed": true
   },
   "outputs": [],
   "source": [
    "# Вариант №1. Подходит для относительно небольших файлов, т.к. содержимое файла полностью загружается в ОЗУ.\n",
    "def copy_file(source_path, target_path):\n",
    "    \n",
    "    # выделим из target_path директорию\n",
    "    dirname = os.path.split(target_path)[0]\n",
    "    # создание dirname при необходимости\n",
    "    check_path(dirname)\n",
    "    # открытие соответствующих файлов на чтение/запись\n",
    "    with open(source_path, 'r') as sf, open(target_path + '_copy', 'w') as tf:\n",
    "        return tf.write(sf.read())\n",
    "        \n",
    "\n",
    "# Вариант №2. Предпочтительно использовать в случае обработки огромных файлов,\n",
    "# т.к. в этом случае мы производим чтение построчно, и данные из файла занимают\n",
    "# в памяти ровно столько, сколько \"весит\" текущая строка. Т.о. мы не испытываем\n",
    "# дефицит ОЗУ при обработке больших файлов.\n",
    "def copy_big_file(source_path, target_path):\n",
    "    \n",
    "    # выделим из target_path директорию\n",
    "    dirname = os.path.split(target_path)[0]\n",
    "    # создание dirname при необходимости\n",
    "    check_path(dirname)\n",
    "    # открытие соответствующих файлов на чтение/запись\n",
    "    with open(source_path, 'r') as sf, open(target_path + '_bigcopy', 'w') as tf:\n",
    "        return tf.writelines(sf.xreadlines())\n",
    "\n",
    "\n",
    "s_path = os.path.join(tmp_dir_name, 'task_1.1_source')\n",
    "t_path = os.path.join(tmp_dir_name, 'go_more_deeper', 'deepest_way', 'task_1.1_source')\n",
    "\n",
    "copy_file(s_path, t_path)\n",
    "copy_big_file(s_path, t_path)"
   ]
  },
  {
   "cell_type": "code",
   "execution_count": 6,
   "metadata": {
    "collapsed": false
   },
   "outputs": [
    {
     "name": "stdout",
     "output_type": "stream",
     "text": [
      "123\n",
      "4567\n",
      " 8910\n",
      "-----\n",
      "123\n",
      "4567\n",
      " 8910\n"
     ]
    }
   ],
   "source": [
    "!type tmp_dir_for_4hw\\go_more_deeper\\deepest_way\\task_1.1_source_copy\n",
    "print '-' * 5\n",
    "!type tmp_dir_for_4hw\\go_more_deeper\\deepest_way\\task_1.1_source_bigcopy"
   ]
  },
  {
   "cell_type": "code",
   "execution_count": null,
   "metadata": {
    "collapsed": true
   },
   "outputs": [],
   "source": [
    "!cat tmp_dir_for_4hw/go_more_deeper/deepest_way/task_1.1_source_copy\n",
    "print '-' * 5\n",
    "!cat tmp_dir_for_4hw/go_more_deeper/deepest_way/task_1.1_source_bigcopy"
   ]
  },
  {
   "cell_type": "markdown",
   "metadata": {},
   "source": [
    "## Задание 1.2\n",
    "\n",
    "##### В файле source_path находится англо-латинский словарь, то есть список слов на английском языке и их переводы на латинский язык (переводов может быть несколько). Необходимо создать из него латино-английский словарь по пути target_path. Например, из словаря\n",
    "\n",
    "\n",
    "\n",
    "apple - malum, pomum, popula\n",
    "\n",
    "fruit - baca, bacca, popum\n",
    "\n",
    "punishment - malum, multa\n",
    "\n",
    "\n",
    "\n",
    "##### нужно сделать словарь.\n",
    "\n",
    "baca - fruit\n",
    "\n",
    "bacca - fruit\n",
    "\n",
    "malum - apple, punishment\n",
    "\n",
    "multa - punishment\n",
    "\n",
    "pomum - apple\n",
    "\n",
    "popula - apple\n",
    "\n",
    "popum - fruit\n",
    "\n",
    "##### Не забудьте, что слова нужно расположить в алфавитном порядке.\n",
    "##### Будет полезна функция strip у строки для удаления пробелов\n"
   ]
  },
  {
   "cell_type": "code",
   "execution_count": 7,
   "metadata": {
    "collapsed": true
   },
   "outputs": [],
   "source": [
    "# Определим функцию создания словаря на основе данных из исходного файла.\n",
    "# Эта же функция нам понадобится в задании 2.2\n",
    "def make_dict(source_file_path):\n",
    "    \n",
    "    trans_dict = {}\n",
    "    with open(source_file_path, 'r') as sf:\n",
    "        for line in sf.xreadlines():\n",
    "            # для тогоб чтобы не думать о кодировках, переводим строки в Unicode\n",
    "            line = my_decoder(line)\n",
    "            source_word, translate_words = line.split(' - ')\n",
    "            for word in translate_words.split(','):\n",
    "                if word.strip() in trans_dict:\n",
    "                    trans_dict[word.strip()] = ', '.join([trans_dict[word.strip()], source_word.strip()])\n",
    "                else:\n",
    "                    trans_dict[word.strip()] = source_word.strip()\n",
    "    return trans_dict\n",
    "\n",
    "\n",
    "def eng_lat_2_lat_eng(source_path, target_path):\n",
    "    \n",
    "    # выделим из target_path директорию\n",
    "    dirname = os.path.split(target_path)[0]\n",
    "    # создание dirname при необходимости\n",
    "    check_path(dirname)\n",
    "    # формирование Латинско-Английского словаря\n",
    "    lat_eng_dict = make_dict(source_path)\n",
    "    # запись данных в алфавитном порядке из полученного словаря в файл\n",
    "    with open(target_path, 'w') as tf:\n",
    "        lat_eng_lines = [\n",
    "            ' - '.join([lat_word, lat_eng_dict[lat_word]]) + '\\n'\n",
    "            for lat_word in sorted(lat_eng_dict.keys())\n",
    "        ]\n",
    "        return tf.writelines(lat_eng_lines)\n",
    "\n",
    "\n",
    "s_path = os.path.join(tmp_dir_name, 'task_1.2_source')\n",
    "t_path = os.path.join(tmp_dir_name, 'go_more_deeper', 'task_1.2_Lat-Eng_dict')\n",
    "\n",
    "eng_lat_2_lat_eng(s_path, t_path)"
   ]
  },
  {
   "cell_type": "code",
   "execution_count": 8,
   "metadata": {
    "collapsed": false
   },
   "outputs": [
    {
     "name": "stdout",
     "output_type": "stream",
     "text": [
      "ars - art, technique, skill\n",
      "artificium - art\n",
      "baca - fruit\n",
      "bacca - fruit\n",
      "fabrica - art\n",
      "hexis - skill\n",
      "malum - apple, punishment\n",
      "multa - punishment\n",
      "peritia - skill\n",
      "pomum - apple\n",
      "popula - apple\n",
      "popum - fruit\n",
      "professio - art\n",
      "queentia - skill\n",
      "scientia - skill\n",
      "sollertia - art, skill\n"
     ]
    }
   ],
   "source": [
    "!type tmp_dir_for_4hw\\go_more_deeper\\task_1.2_Lat-Eng_dict"
   ]
  },
  {
   "cell_type": "code",
   "execution_count": null,
   "metadata": {
    "collapsed": true
   },
   "outputs": [],
   "source": [
    "!cat tmp_dir_for_4hw/go_more_deeper/task_1.2_Lat-Eng_dict"
   ]
  },
  {
   "cell_type": "markdown",
   "metadata": {},
   "source": [
    "## Задание 1.3\n",
    "\n",
    "Напишите функцию, вычисляющую длину русского слова, независимо от его кодировки\n",
    "\n",
    "Если параметр encoding задан, то нужно декодировать текст при помощи этой кодировки. А если он не задан, то кодировку надо определить самостоятельно.\n",
    "\n",
    "##### Если кодировка не задана, то точное решение здесь написать не получится. Но можно воспользоваться функцией my_decoder из лекции"
   ]
  },
  {
   "cell_type": "code",
   "execution_count": 9,
   "metadata": {
    "collapsed": true
   },
   "outputs": [],
   "source": [
    "def my_len(word, encoding=None):\n",
    "    \n",
    "    if encoding:\n",
    "        return len(word.decode(encoding))\n",
    "    else:\n",
    "        return len(my_decoder(word))"
   ]
  },
  {
   "cell_type": "code",
   "execution_count": 10,
   "metadata": {
    "collapsed": false
   },
   "outputs": [
    {
     "data": {
      "text/plain": [
       "True"
      ]
     },
     "execution_count": 10,
     "metadata": {},
     "output_type": "execute_result"
    }
   ],
   "source": [
    "my_len('текст') == 5"
   ]
  },
  {
   "cell_type": "code",
   "execution_count": 11,
   "metadata": {
    "collapsed": false
   },
   "outputs": [
    {
     "data": {
      "text/plain": [
       "True"
      ]
     },
     "execution_count": 11,
     "metadata": {},
     "output_type": "execute_result"
    }
   ],
   "source": [
    "my_len(u'текст') == 5"
   ]
  },
  {
   "cell_type": "code",
   "execution_count": 12,
   "metadata": {
    "collapsed": false
   },
   "outputs": [
    {
     "data": {
      "text/plain": [
       "True"
      ]
     },
     "execution_count": 12,
     "metadata": {},
     "output_type": "execute_result"
    }
   ],
   "source": [
    "my_len(u'ааааа'.encode('utf_16'), encoding='utf_16') == 5"
   ]
  },
  {
   "cell_type": "code",
   "execution_count": 13,
   "metadata": {
    "collapsed": false
   },
   "outputs": [
    {
     "data": {
      "text/plain": [
       "True"
      ]
     },
     "execution_count": 13,
     "metadata": {},
     "output_type": "execute_result"
    }
   ],
   "source": [
    "my_len(u'текст'.encode('windows-1251')) == 5"
   ]
  },
  {
   "cell_type": "markdown",
   "metadata": {},
   "source": [
    "# Продвинутый уровень"
   ]
  },
  {
   "cell_type": "markdown",
   "metadata": {},
   "source": [
    "## Задание 2.1\n",
    "\n",
    "Напишите функцию, которая выписывает список файлов в данной директории и сортирует их в соответствии с их размером. Функция должна получать путь к директории в качестве аргумента и печатать на экран имена всех файлов в ней и их размеры, причем первыми должны идти файлы с наибольшими размерами, а в случае одинакового размер файлы сортируются по алфавиту.\n",
    "\n",
    "##### Указание. Изучите функции listdir и stat из модуля os и функции isfile и join из модуля os.path.\n"
   ]
  },
  {
   "cell_type": "code",
   "execution_count": 14,
   "metadata": {
    "collapsed": false
   },
   "outputs": [
    {
     "name": "stdout",
     "output_type": "stream",
     "text": [
      "ICyupo    \t989957\n",
      "ki2IUXoHfE\t955055\n",
      "rN7ZWXJ   \t955055\n",
      "tOqbEVuX  \t919697\n",
      "G4sLp     \t888605\n",
      "I0bLhS5E4G\t843995\n",
      "jTpSZG0s  \t799639\n",
      "xVQdmiMZr \t714565\n",
      "notrCIwDT \t690629\n",
      "uSjsfMk   \t690629\n",
      "Cx8tYkO9F \t615312\n",
      "UMqK2otvl \t577784\n",
      "hIUT62u   \t505823\n",
      "9S5h1dIGr \t438521\n",
      "g946znhKoX\t438521\n",
      "9hzf25mPQy\t284996\n",
      "jX4Tag85G \t261383\n",
      "0oehO     \t223596\n"
     ]
    }
   ],
   "source": [
    "def get_dir_content_info(dir_path):\n",
    "    \n",
    "    files_list = [(filename, os.stat(os.path.join(dir_path, filename)).st_size)\n",
    "                  for filename in os.listdir(dir_path)\n",
    "                      if os.path.isfile(os.path.join(dir_path, filename))\n",
    "                 ]\n",
    "    for filename, size in sorted(files_list, reverse=True, key=lambda (x, y): y):\n",
    "        print '{:<10}\\t{}'.format(filename, size)\n",
    "\n",
    "\n",
    "# создадим директорию с тестовым набором файлов\n",
    "dir_path = os.path.join(tmp_dir_name, 'random_file_dir')\n",
    "generate_sample_files_and_dirs(dir_path, 15, 3, 2)\n",
    "\n",
    "get_dir_content_info(dir_path)"
   ]
  },
  {
   "cell_type": "markdown",
   "metadata": {},
   "source": [
    "##### Комментарий\n",
    "\n",
    "Того же результата можно было добиться используя <b>os.path.isfile(path)</b> вместо <b>os.stat(path).st_size</b>"
   ]
  },
  {
   "cell_type": "markdown",
   "metadata": {},
   "source": [
    "## Задание 2.2\n",
    "\n",
    "Аналогично 1.2, но только теперь англо-русский в русско-английский словарь. Дополнительно теперь будет ещё параметр encoding для кодировки файлов. Если он None, то нужно самостоятельно определить кодировку файла.\n",
    "\n",
    "##### Решение будет почти дублировать 1.2, но сначала текст нужно привести в unicode"
   ]
  },
  {
   "cell_type": "markdown",
   "metadata": {},
   "source": [
    "##### Из словаря\n",
    "\n",
    "heap - куча, ворох, груда, отвал, масса, множество\n",
    "\n",
    "technique - техника, метод, способ, технические приемы\n",
    "\n",
    "club - клуб, дубинка, булава, клюшка, трефы\n",
    "\n",
    "mechanism - механизм, устройство, аппарат, техника\n",
    "\n",
    "hockey-stick - клюшка\n",
    "\n",
    "mountain - гора, куча, множество, масса\n",
    "\n",
    "##### получим\n",
    "\n",
    "аппарат - mechanism\n",
    "\n",
    "булава - club\n",
    "\n",
    "ворох - heap\n",
    "\n",
    "гора - mountain\n",
    "\n",
    "груда - heap\n",
    "\n",
    "дубинка - club\n",
    "\n",
    "клуб - club\n",
    "\n",
    "клюшка - club, hockey-stick\n",
    "\n",
    "куча - heap, mountain\n",
    "\n",
    "масса - heap, mountain\n",
    "\n",
    "метод - technique\n",
    "\n",
    "механизм - mechanism\n",
    "\n",
    "множество - heap, mountain\n",
    "\n",
    "отвал - heap\n",
    "\n",
    "способ - technique\n",
    "\n",
    "техника - technique, mechanism\n",
    "\n",
    "технические приемы - technique\n",
    "\n",
    "трефы - club\n",
    "\n",
    "устройство - mechanism\n"
   ]
  },
  {
   "cell_type": "code",
   "execution_count": 15,
   "metadata": {
    "collapsed": true
   },
   "outputs": [],
   "source": [
    "def eng_rus_2_rus_eng(source_path, target_path, encoding=None):\n",
    "    \n",
    "    # выделим из target_path директорию\n",
    "    dirname = os.path.split(target_path)[0]\n",
    "    # создание dirname при необходимости\n",
    "    check_path(dirname)\n",
    "    # формирование Русско-Английского словаря\n",
    "    rus_eng_dict = make_dict(source_path)\n",
    "    # если параметр encoding не задан, то определяем его исходя из кодировки исходного файла\n",
    "    if not encoding:\n",
    "        with open(source_path, 'r') as sf:\n",
    "            # формируем тестовую строку для chardet из первых 3-х строк исходного файла\n",
    "            lines = ''.join([sf.next() for i in range(3)])\n",
    "        # определяем кодировку\n",
    "        encoding = chardet.detect(lines)['encoding']\n",
    "    # запись данных в алфавитном порядке из полученного словаря в файл\n",
    "    with open(target_path, 'w') as tf:\n",
    "        rus_eng_lines = [\n",
    "            ' - '.join([rus_word, rus_eng_dict[rus_word]]).encode(encoding) + '\\n'\n",
    "            for rus_word in sorted(rus_eng_dict.keys())\n",
    "        ]\n",
    "        return tf.writelines(rus_eng_lines)\n",
    "\n",
    "\n",
    "s_path = os.path.join(tmp_dir_name, 'task_2.2_source')\n",
    "t_path1 = os.path.join(tmp_dir_name, 'go_more_deeper', 'task_2.2_Rus-Eng_dict1')\n",
    "t_path2 = os.path.join(tmp_dir_name, 'go_more_deeper', 'task_2.2_Rus-Eng_dict2')\n",
    "\n",
    "eng_rus_2_rus_eng(s_path, t_path1)\n",
    "eng_rus_2_rus_eng(s_path, t_path2, encoding='windows-1251')"
   ]
  },
  {
   "cell_type": "markdown",
   "metadata": {},
   "source": [
    "Для выходного файла <b>task_2.2_Rus-Eng_dict1</b> использовалась та же кодировка, что у файла источника - <b>utf-8</b>. По всей видимости утилита <b>type</b> не умеет распознавать эту кодировку, поэтому мы видим кракозябры."
   ]
  },
  {
   "cell_type": "code",
   "execution_count": 16,
   "metadata": {
    "collapsed": false
   },
   "outputs": [
    {
     "name": "stdout",
     "output_type": "stream",
     "text": [
      "Р°РїРїР°СЂР°С‚ - mechanism\n",
      "Р±СѓР»Р°РІР° - club\n",
      "РІРѕСЂРѕС… - heap\n",
      "РіРѕСЂР° - mountain\n",
      "РіСЂСѓРґР° - heap\n",
      "РґСѓР±РёРЅРєР° - club\n",
      "РєР»СѓР± - club\n",
      "РєР»СЋС€РєР° - club, hockey-stick\n",
      "РєСѓС‡Р° - heap, mountain\n",
      "РјР°СЃСЃР° - heap, mountain\n",
      "РјРµС‚РѕРґ - technique\n",
      "РјРµС…Р°РЅРёР·Рј - mechanism\n",
      "РјРЅРѕР¶РµСЃС‚РІРѕ - heap, mountain\n",
      "РѕС‚РІР°Р» - heap\n",
      "СЃРїРѕСЃРѕР± - technique\n",
      "С‚РµС…РЅРёРєР° - technique, mechanism\n",
      "С‚РµС…РЅРёС‡РµСЃРєРёРµ РїСЂРёРµРјС‹ - technique\n",
      "С‚СЂРµС„С‹ - club\n",
      "СѓСЃС‚СЂРѕР№СЃС‚РІРѕ - mechanism\n"
     ]
    }
   ],
   "source": [
    "!type tmp_dir_for_4hw\\go_more_deeper\\task_2.2_Rus-Eng_dict1"
   ]
  },
  {
   "cell_type": "markdown",
   "metadata": {},
   "source": [
    "Используем хак, определенный в начале это Notebook'а."
   ]
  },
  {
   "cell_type": "code",
   "execution_count": 17,
   "metadata": {
    "collapsed": false
   },
   "outputs": [
    {
     "name": "stdout",
     "output_type": "stream",
     "text": [
      "аппарат - mechanism\n",
      "булава - club\n",
      "ворох - heap\n",
      "гора - mountain\n",
      "груда - heap\n",
      "дубинка - club\n",
      "клуб - club\n",
      "клюшка - club, hockey-stick\n",
      "куча - heap, mountain\n",
      "масса - heap, mountain\n",
      "метод - technique\n",
      "механизм - mechanism\n",
      "множество - heap, mountain\n",
      "отвал - heap\n",
      "способ - technique\n",
      "техника - technique, mechanism\n",
      "технические приемы - technique\n",
      "трефы - club\n",
      "устройство - mechanism\n"
     ]
    }
   ],
   "source": [
    "cmd = !type tmp_dir_for_4hw\\go_more_deeper\\task_2.2_Rus-Eng_dict1\n",
    "print_cmd(cmd, chardet.detect('\\n'.join(cmd))['encoding'])"
   ]
  },
  {
   "cell_type": "markdown",
   "metadata": {},
   "source": [
    "Для выходного файла <b>task_2.2_Rus-Eng_dict2</b> использовалась нативная кодировка Windows, поэтому кириллица отобразилась корректно."
   ]
  },
  {
   "cell_type": "code",
   "execution_count": 18,
   "metadata": {
    "collapsed": false
   },
   "outputs": [
    {
     "name": "stdout",
     "output_type": "stream",
     "text": [
      "аппарат - mechanism\n",
      "булава - club\n",
      "ворох - heap\n",
      "гора - mountain\n",
      "груда - heap\n",
      "дубинка - club\n",
      "клуб - club\n",
      "клюшка - club, hockey-stick\n",
      "куча - heap, mountain\n",
      "масса - heap, mountain\n",
      "метод - technique\n",
      "механизм - mechanism\n",
      "множество - heap, mountain\n",
      "отвал - heap\n",
      "способ - technique\n",
      "техника - technique, mechanism\n",
      "технические приемы - technique\n",
      "трефы - club\n",
      "устройство - mechanism\n"
     ]
    }
   ],
   "source": [
    "!type tmp_dir_for_4hw\\go_more_deeper\\task_2.2_Rus-Eng_dict2"
   ]
  },
  {
   "cell_type": "code",
   "execution_count": null,
   "metadata": {
    "collapsed": true
   },
   "outputs": [],
   "source": [
    "!cat tmp_dir_for_4hw/go_more_deeper/task_2.2_Rus-Eng_dict1"
   ]
  },
  {
   "cell_type": "code",
   "execution_count": null,
   "metadata": {
    "collapsed": true
   },
   "outputs": [],
   "source": [
    "!cat tmp_dir_for_4hw/go_more_deeper/task_2.2_Rus-Eng_dict2"
   ]
  },
  {
   "cell_type": "markdown",
   "metadata": {},
   "source": [
    "# Сложный уровень"
   ]
  },
  {
   "cell_type": "markdown",
   "metadata": {},
   "source": [
    "## Задание 3.1\n",
    "\n",
    "Существует исследование, говорящее о том, что в словах текста можно произвольно переставить буквы (не затрагивая первую и последнюю), и от этого читабельность текста практически не ухудшится. Напишите функцию для проверки этого факта. Ваша функция должна получать на вход какой-нибудь текст (может быть и на русском языке) и переставлять буквы в его словах случайным образом. \n",
    "\n",
    "Если seed None, то буквы переставляются не случайным образом, а сортируются по алфавиту (латинские символы считаем меньше кириллических). Если seed не None, то нужно использовать это seed при инициализации рандома. Сравните результаты.\n",
    "\n",
    "##### будем считать, что текст это последовательность кириллических и латинских символов разделённая пробелом\n",
    "##### вам потребуется модуль random и функции random.seed и random.shuffle\n",
    "##### проверьте результат работы на не юникодовских строчках и объясните результат"
   ]
  },
  {
   "cell_type": "code",
   "execution_count": 19,
   "metadata": {
    "collapsed": true
   },
   "outputs": [],
   "source": [
    "def text_shuffle(text, seed=None):\n",
    "    words = text.split()\n",
    "    for i, word in enumerate(words):\n",
    "        word_list = list(word)\n",
    "        shuffle_part = list(word_list[1:-1])\n",
    "        if seed:\n",
    "            random.seed(seed)\n",
    "            random.shuffle(shuffle_part)\n",
    "        else:\n",
    "            shuffle_part.sort()\n",
    "        word_list[1:-1] = shuffle_part\n",
    "        word = ''.join(word_list)\n",
    "        words[i] = word\n",
    "    text = ' '.join(words)\n",
    "    return text"
   ]
  },
  {
   "cell_type": "markdown",
   "metadata": {},
   "source": [
    "<b>Примеры Unicode-строк</b>"
   ]
  },
  {
   "cell_type": "code",
   "execution_count": 20,
   "metadata": {
    "collapsed": true
   },
   "outputs": [],
   "source": [
    "text1 = u'Читаемость имеет значение'\n",
    "text2 = u'Beautiful is better than ugly'\n",
    "text3 = u'abrАСadabra testing' # АС - кириллица"
   ]
  },
  {
   "cell_type": "markdown",
   "metadata": {},
   "source": [
    "Вызов ф-ии <b>text_shuffle</b> с параметром <b>seed</b>. В первых двух случаях <b>seed</b> одинаковый, поэтому результат совпадает."
   ]
  },
  {
   "cell_type": "code",
   "execution_count": 21,
   "metadata": {
    "collapsed": false
   },
   "outputs": [
    {
     "name": "stdout",
     "output_type": "stream",
     "text": [
      "Чтмиосаеть иеемт зннеичае\t|\tBfeiuutal is bteter tahn ulgy\t|\taarbbdСraАa teintsg\n",
      "Чтмиосаеть иеемт зннеичае\t|\tBfeiuutal is bteter tahn ulgy\t|\taarbbdСraАa teintsg\n",
      "Чмтаеоисть имеет зчаенние\t|\tBtauieful is bteter than ugly\t|\tardСАaabbra tsteing\n"
     ]
    }
   ],
   "source": [
    "print '{}\\t|\\t{}\\t|\\t{}'.format(text_shuffle(text1, 3).encode('utf-8'), text_shuffle(text2, 3), text_shuffle(text3, 3).encode('utf-8'))\n",
    "print '{}\\t|\\t{}\\t|\\t{}'.format(text_shuffle(text1, 3).encode('utf-8'), text_shuffle(text2, 3), text_shuffle(text3, 3).encode('utf-8'))\n",
    "print '{}\\t|\\t{}\\t|\\t{}'.format(text_shuffle(text1, 2).encode('utf-8'), text_shuffle(text2, 2), text_shuffle(text3, 2).encode('utf-8'))"
   ]
  },
  {
   "cell_type": "markdown",
   "metadata": {},
   "source": [
    "Вызов ф-ии <b>text_shuffle</b> без параметра <b>seed</b>."
   ]
  },
  {
   "cell_type": "code",
   "execution_count": 22,
   "metadata": {
    "collapsed": false
   },
   "outputs": [
    {
     "name": "stdout",
     "output_type": "stream",
     "text": [
      "Чаеимостть иеемт заеиннче\t|\tBaefituul is beettr tahn ugly\t|\taaabbdrrАСa teinstg\n"
     ]
    }
   ],
   "source": [
    "print '{}\\t|\\t{}\\t|\\t{}'.format(text_shuffle(text1).encode('utf-8'), text_shuffle(text2), text_shuffle(text3).encode('utf-8'))"
   ]
  },
  {
   "cell_type": "markdown",
   "metadata": {},
   "source": [
    "Проверим как отработает функция, если на вход подать тип str, а не Unicode."
   ]
  },
  {
   "cell_type": "code",
   "execution_count": 23,
   "metadata": {
    "collapsed": false
   },
   "outputs": [
    {
     "name": "stdout",
     "output_type": "stream",
     "text": [
      "Ё����������������ь е������т Ї������������ѵ\t|\tBaefituul is beettr tahn ugly\n",
      "�Ѱ��и����ЧѼ���Ќ �им��е� �на��з�н�е�\t|\tBeauftuil is betetr than ugly\n"
     ]
    }
   ],
   "source": [
    "text4 = 'Читаемость имеет значение'\n",
    "text5 = 'Beautiful is better than ugly'\n",
    "\n",
    "print '{}\\t|\\t{}'.format(text_shuffle(text4), text_shuffle(text5))\n",
    "print '{}\\t|\\t{}'.format(text_shuffle(text4, 5), text_shuffle(text5, 5))"
   ]
  },
  {
   "cell_type": "markdown",
   "metadata": {},
   "source": [
    "##### Комментарий\n",
    "\n",
    "В случае использования юникодовский строк сортировка и перемешивание происходят посимвольно, а в случае байтовых последовательностей (тип str) - побайтово."
   ]
  },
  {
   "cell_type": "markdown",
   "metadata": {},
   "source": [
    "## Задание 3.2\n",
    "\n",
    "Напишите функцию, которая читает два файла построчно (то есть не загружая всё содержимое в память), и записывает в выходной файл результат лексиграфического сравнение срочки из первого файла и из второго (First, Second и Equal по аналогии c предыдущим ДЗ)."
   ]
  },
  {
   "cell_type": "markdown",
   "metadata": {},
   "source": [
    "##### Комментарий\n",
    "\n",
    "Т.к. в задании явно не указано, должно ли быть сравнение регистрозависимым или нет, дополнительно реализовал флаг у функции."
   ]
  },
  {
   "cell_type": "code",
   "execution_count": 24,
   "metadata": {
    "collapsed": false
   },
   "outputs": [
    {
     "name": "stdout",
     "output_type": "stream",
     "text": [
      "\"country\" _or_ \"countryman\"\t=>\tFirst\n",
      "\"арбуз и дыня\" _or_ \"Яблоко\"\t=>\tSecond\n",
      "\"asdE,45kl\" _or_ \"фывА!\"\t=>\tFirst\n",
      "\"sollertia\" _or_ \"sollertia\"\t=>\tEqual\n",
      "\"тест непечатного символа\" _or_ \"тест непечатного символа\"\t=>\tEqual\n",
      "--------------------------------------------------------------------------------\n",
      "\"COUNTRY\" _or_ \"COUNTRYMAN\"\t=>\tFirst\n",
      "\"АРБУЗ И ДЫНЯ\" _or_ \"ЯБЛОКО\"\t=>\tFirst\n",
      "\"ASDE,45KL\" _or_ \"ФЫВА!\"\t=>\tFirst\n",
      "\"SOLLERTIA\" _or_ \"SOLLERTIA\"\t=>\tEqual\n",
      "\"ТЕСТ НЕПЕЧАТНОГО СИМВОЛА\" _or_ \"ТЕСТ НЕПЕЧАТНОГО СИМВОЛА\"\t=>\tEqual\n"
     ]
    }
   ],
   "source": [
    "def compare(x, y):\n",
    "    \n",
    "    if x < y:\n",
    "        return 'First'\n",
    "    elif x > y:\n",
    "        return 'Second'\n",
    "    else:\n",
    "        return 'Equal'\n",
    "\n",
    "\n",
    "def process(fst_source_path, snd_source_path, target_path, reg_flag=True):\n",
    "    \n",
    "    \"\"\"\n",
    "    Функция построчного лексиграфического сравнения файлов.\n",
    "    Если reg_flag=True, то сравнение регистрозависимо, т.е. Z > a, Я > а и т.п.\n",
    "    Если reg_flag=False, то сравнение происходит без учета регистра, т.е. Z < a, Я < а и т.п.\n",
    "    \"\"\"\n",
    "    \n",
    "    with open(fst_source_path, 'r') as f1,\\\n",
    "         open(snd_source_path, 'r') as f2,\\\n",
    "         open(target_path, 'w') as fr:\n",
    "        for str1, str2 in zip(f1.xreadlines(), f2.xreadlines()):\n",
    "            # переведем строки в Unicode и учтем значение флага\n",
    "            if reg_flag:\n",
    "                str1, str2 = my_decoder(str1.strip()), my_decoder(str2.strip())\n",
    "            else:\n",
    "                str1, str2 = my_decoder(str1.strip()).upper(), my_decoder(str2.strip()).upper()\n",
    "            # посимвольное сравнение строк\n",
    "            for s1, s2 in zip(list(str1), list(str2)):\n",
    "                res = compare(ord(s1), ord(s2))\n",
    "                if res != 'Equal':\n",
    "                    break\n",
    "            # если все символы одинаковы, то меньше слова с меньшим кол-ом символов\n",
    "            if res == 'Equal':\n",
    "                res = compare(len(str1), len(str2))\n",
    "            # переводим строки обратно в последовательность байт\n",
    "            str1, str2 = str1.encode('utf-8'), str2.encode('utf-8')\n",
    "            print '\"{}\" _or_ \"{}\"\\t=>\\t{}'.format(str1, str2, res)\n",
    "            fr.write(res + '\\n')\n",
    "\n",
    "\n",
    "s_path1 = os.path.join(tmp_dir_name, 'task_3.2.1_source')\n",
    "s_path2 = os.path.join(tmp_dir_name, 'task_3.2.2_source')\n",
    "t_path1 = os.path.join(tmp_dir_name, 'go_more_deeper', 'leksic_compare_result1')\n",
    "t_path2 = os.path.join(tmp_dir_name, 'go_more_deeper', 'leksic_compare_result2')\n",
    "\n",
    "# регистрозависимое сравнение\n",
    "process(s_path1, s_path2, t_path1)\n",
    "print '-' * 80\n",
    "# сравнение без учета регистра\n",
    "process(s_path1, s_path2, t_path2, reg_flag=False)"
   ]
  },
  {
   "cell_type": "markdown",
   "metadata": {
    "collapsed": true
   },
   "source": [
    "<b><i>Проверим содержимое выходных файлов:"
   ]
  },
  {
   "cell_type": "code",
   "execution_count": 25,
   "metadata": {
    "collapsed": false
   },
   "outputs": [
    {
     "name": "stdout",
     "output_type": "stream",
     "text": [
      "First\n",
      "Second\n",
      "First\n",
      "Equal\n",
      "Equal\n",
      "-----\n",
      "First\n",
      "First\n",
      "First\n",
      "Equal\n",
      "Equal\n"
     ]
    }
   ],
   "source": [
    "!type tmp_dir_for_4hw\\go_more_deeper\\leksic_compare_result1\n",
    "print '-' * 5\n",
    "!type tmp_dir_for_4hw\\go_more_deeper\\leksic_compare_result2"
   ]
  },
  {
   "cell_type": "code",
   "execution_count": null,
   "metadata": {
    "collapsed": true
   },
   "outputs": [],
   "source": [
    "!cat tmp_dir_for_4hw/go_more_deeper/leksic_compare_result1\n",
    "print '-' * 5\n",
    "!cat tmp_dir_for_4hw/go_more_deeper/leksic_compare_result2"
   ]
  }
 ],
 "metadata": {
  "anaconda-cloud": {},
  "kernelspec": {
   "display_name": "Python 2",
   "language": "python",
   "name": "python2"
  },
  "language_info": {
   "codemirror_mode": {
    "name": "ipython",
    "version": 2
   },
   "file_extension": ".py",
   "mimetype": "text/x-python",
   "name": "python",
   "nbconvert_exporter": "python",
   "pygments_lexer": "ipython2",
   "version": "2.7.13"
  }
 },
 "nbformat": 4,
 "nbformat_minor": 2
}
