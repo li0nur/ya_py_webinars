{
 "cells": [
  {
   "cell_type": "markdown",
   "metadata": {},
   "source": [
    "# Задание 8 (финальное)"
   ]
  },
  {
   "cell_type": "markdown",
   "metadata": {},
   "source": [
    "В этом задании Вам предлагается сделать несколько несложных упражнений с упомянутыми на лекции библиотеками, а также потренироваться использовать документацию к новым для Вас библиотекам, чтобы почувствовать, что теперь Вы сами можете продолжить свое знакомство с Питоном, осваивая новые инструменты."
   ]
  },
  {
   "cell_type": "markdown",
   "metadata": {},
   "source": [
    "## 1. Базовый уровень: задание по numpy и scipy"
   ]
  },
  {
   "cell_type": "markdown",
   "metadata": {},
   "source": [
    "1. Напишите свой аналог np.linspace с использованием цикла и с использованием list comprehension. Сравните все три варианта по производительности\n",
    "1. Сравните по производительности основные операции с массивами (array) numpy и с list\n",
    "1. Попробуйте поменять метод оптимизации в примере решения оптимизационной задачи с помощью scipy.optimize, показанном на лекции (для этого потребуется обратиться к документации). Подберите метод с наименьшим количеством вычислений функции. Начальное приближение (точку [5,5]) оставьте тем же."
   ]
  },
  {
   "cell_type": "code",
   "execution_count": 1,
   "metadata": {
    "collapsed": true
   },
   "outputs": [],
   "source": [
    "import numpy as np"
   ]
  },
  {
   "cell_type": "markdown",
   "metadata": {},
   "source": [
    "<b>Решение задачи 1:</b> Согласно документации полный формат вызова функции - <b>numpy.linspace(start, stop, num = 50, endpoint = True, retstep = False)</b>."
   ]
  },
  {
   "cell_type": "code",
   "execution_count": 2,
   "metadata": {
    "collapsed": false
   },
   "outputs": [],
   "source": [
    "# с использованием цикла\n",
    "def my_linspace_circle(start, stop, num=50, endpoint=True, retstep=False):\n",
    "    list_range = []\n",
    "    if endpoint:\n",
    "        step = float(stop - start) / (num-1)\n",
    "    else:\n",
    "        step = float(stop - start) / num\n",
    "    for i in range(num):\n",
    "        list_range.append(start + i*step)\n",
    "    if retstep:\n",
    "        return (np.array(list_range), step)\n",
    "    else:\n",
    "        return np.array(list_range)\n",
    "\n",
    "# с использованием list comprehension\n",
    "def my_linspace_lc(start, stop, num=50, endpoint=True, retstep=False):\n",
    "    if endpoint:\n",
    "        step = float(stop - start) / (num-1)\n",
    "    else:\n",
    "        step = float(stop - start) / num\n",
    "    list_range = [ start + i*step for i in range(num) ]\n",
    "    if retstep:\n",
    "        return (np.array(list_range), step)\n",
    "    else:\n",
    "        return np.array(list_range)"
   ]
  },
  {
   "cell_type": "code",
   "execution_count": 3,
   "metadata": {
    "collapsed": false
   },
   "outputs": [
    {
     "data": {
      "text/plain": [
       "(array([ 1.        ,  1.12244898,  1.24489796,  1.36734694,  1.48979592,\n",
       "         1.6122449 ,  1.73469388,  1.85714286,  1.97959184,  2.10204082,\n",
       "         2.2244898 ,  2.34693878,  2.46938776,  2.59183673,  2.71428571,\n",
       "         2.83673469,  2.95918367,  3.08163265,  3.20408163,  3.32653061,\n",
       "         3.44897959,  3.57142857,  3.69387755,  3.81632653,  3.93877551,\n",
       "         4.06122449,  4.18367347,  4.30612245,  4.42857143,  4.55102041,\n",
       "         4.67346939,  4.79591837,  4.91836735,  5.04081633,  5.16326531,\n",
       "         5.28571429,  5.40816327,  5.53061224,  5.65306122,  5.7755102 ,\n",
       "         5.89795918,  6.02040816,  6.14285714,  6.26530612,  6.3877551 ,\n",
       "         6.51020408,  6.63265306,  6.75510204,  6.87755102,  7.        ]),\n",
       " 0.12244897959183673)"
      ]
     },
     "execution_count": 3,
     "metadata": {},
     "output_type": "execute_result"
    }
   ],
   "source": [
    "np.linspace(1, 7, endpoint=True, retstep=True)"
   ]
  },
  {
   "cell_type": "code",
   "execution_count": 4,
   "metadata": {
    "collapsed": false
   },
   "outputs": [
    {
     "data": {
      "text/plain": [
       "(array([ 1.        ,  1.12244898,  1.24489796,  1.36734694,  1.48979592,\n",
       "         1.6122449 ,  1.73469388,  1.85714286,  1.97959184,  2.10204082,\n",
       "         2.2244898 ,  2.34693878,  2.46938776,  2.59183673,  2.71428571,\n",
       "         2.83673469,  2.95918367,  3.08163265,  3.20408163,  3.32653061,\n",
       "         3.44897959,  3.57142857,  3.69387755,  3.81632653,  3.93877551,\n",
       "         4.06122449,  4.18367347,  4.30612245,  4.42857143,  4.55102041,\n",
       "         4.67346939,  4.79591837,  4.91836735,  5.04081633,  5.16326531,\n",
       "         5.28571429,  5.40816327,  5.53061224,  5.65306122,  5.7755102 ,\n",
       "         5.89795918,  6.02040816,  6.14285714,  6.26530612,  6.3877551 ,\n",
       "         6.51020408,  6.63265306,  6.75510204,  6.87755102,  7.        ]),\n",
       " 0.12244897959183673)"
      ]
     },
     "execution_count": 4,
     "metadata": {},
     "output_type": "execute_result"
    }
   ],
   "source": [
    "my_linspace_circle(1, 7, endpoint=True, retstep=True)"
   ]
  },
  {
   "cell_type": "code",
   "execution_count": 5,
   "metadata": {
    "collapsed": false
   },
   "outputs": [
    {
     "data": {
      "text/plain": [
       "(array([ 1.        ,  1.12244898,  1.24489796,  1.36734694,  1.48979592,\n",
       "         1.6122449 ,  1.73469388,  1.85714286,  1.97959184,  2.10204082,\n",
       "         2.2244898 ,  2.34693878,  2.46938776,  2.59183673,  2.71428571,\n",
       "         2.83673469,  2.95918367,  3.08163265,  3.20408163,  3.32653061,\n",
       "         3.44897959,  3.57142857,  3.69387755,  3.81632653,  3.93877551,\n",
       "         4.06122449,  4.18367347,  4.30612245,  4.42857143,  4.55102041,\n",
       "         4.67346939,  4.79591837,  4.91836735,  5.04081633,  5.16326531,\n",
       "         5.28571429,  5.40816327,  5.53061224,  5.65306122,  5.7755102 ,\n",
       "         5.89795918,  6.02040816,  6.14285714,  6.26530612,  6.3877551 ,\n",
       "         6.51020408,  6.63265306,  6.75510204,  6.87755102,  7.        ]),\n",
       " 0.12244897959183673)"
      ]
     },
     "execution_count": 5,
     "metadata": {},
     "output_type": "execute_result"
    }
   ],
   "source": [
    "my_linspace_lc(1, 7, endpoint=True, retstep=True)"
   ]
  },
  {
   "cell_type": "code",
   "execution_count": 6,
   "metadata": {
    "collapsed": false
   },
   "outputs": [
    {
     "data": {
      "text/plain": [
       "True"
      ]
     },
     "execution_count": 6,
     "metadata": {},
     "output_type": "execute_result"
    }
   ],
   "source": [
    "type(np.linspace(0, 7, endpoint=True)) == type(my_linspace_circle(0, 7, endpoint=True))"
   ]
  },
  {
   "cell_type": "code",
   "execution_count": 7,
   "metadata": {
    "collapsed": false
   },
   "outputs": [
    {
     "data": {
      "text/plain": [
       "True"
      ]
     },
     "execution_count": 7,
     "metadata": {},
     "output_type": "execute_result"
    }
   ],
   "source": [
    "type(np.linspace(0, 7, endpoint=False)) == type(my_linspace_lc(0, 7, endpoint=False))"
   ]
  },
  {
   "cell_type": "markdown",
   "metadata": {},
   "source": [
    "Сравним скорость выполнения:"
   ]
  },
  {
   "cell_type": "code",
   "execution_count": 9,
   "metadata": {
    "collapsed": false
   },
   "outputs": [
    {
     "name": "stdout",
     "output_type": "stream",
     "text": [
      "100000 loops, best of 3: 29 µs per loop\n",
      "1000 loops, best of 3: 309 µs per loop\n",
      "1000 loops, best of 3: 221 µs per loop\n"
     ]
    }
   ],
   "source": [
    "%timeit np.linspace(0,11, 1000)\n",
    "%timeit my_linspace_circle(0,11, 1000)\n",
    "%timeit my_linspace_lc(0,11, 1000)"
   ]
  },
  {
   "cell_type": "markdown",
   "metadata": {},
   "source": [
    "<b>Решение задачи 2:</b> Для сравнения производительности в качестве операций с массивами были выбраны суммирование элементов массива, поиск минимума и поиск максимума."
   ]
  },
  {
   "cell_type": "code",
   "execution_count": 20,
   "metadata": {
    "collapsed": false
   },
   "outputs": [],
   "source": [
    "# генерируем одинаковые случайные последовательности с типами 'numpy.ndarray' и 'list'\n",
    "test_np_array = np.random.randn(1000000)\n",
    "test_list_array = list(test_np_array)"
   ]
  },
  {
   "cell_type": "code",
   "execution_count": 21,
   "metadata": {
    "collapsed": false
   },
   "outputs": [
    {
     "name": "stdout",
     "output_type": "stream",
     "text": [
      "100 loops, best of 3: 869 µs per loop\n",
      "1 loop, best of 3: 274 ms per loop\n"
     ]
    }
   ],
   "source": [
    "# сравнение суммирования элементов\n",
    "%timeit test_np_array.sum()\n",
    "%timeit sum(test_list_array)"
   ]
  },
  {
   "cell_type": "code",
   "execution_count": 26,
   "metadata": {
    "collapsed": false
   },
   "outputs": [
    {
     "name": "stdout",
     "output_type": "stream",
     "text": [
      "1000 loops, best of 3: 716 µs per loop\n",
      "10 loops, best of 3: 58.4 ms per loop\n",
      "1000 loops, best of 3: 682 µs per loop\n",
      "10 loops, best of 3: 37.3 ms per loop\n"
     ]
    }
   ],
   "source": [
    "# поиск минимума и максимума\n",
    "%timeit test_np_array.min()\n",
    "%timeit min(test_list_array)\n",
    "\n",
    "%timeit test_np_array.max()\n",
    "%timeit max(test_list_array)"
   ]
  },
  {
   "cell_type": "markdown",
   "metadata": {},
   "source": [
    "<b>Решение задачи 3:</b>"
   ]
  },
  {
   "cell_type": "code",
   "execution_count": 27,
   "metadata": {
    "collapsed": false
   },
   "outputs": [
    {
     "name": "stdout",
     "output_type": "stream",
     "text": [
      "3.0\n"
     ]
    }
   ],
   "source": [
    "from scipy import optimize\n",
    "\n",
    "\n",
    "def f(x):\n",
    "    return (x[0] - 3.2) ** 2 + (x[1] - 0.1) ** 2 + 3\n",
    "\n",
    "print f([3.2, 0.1])"
   ]
  },
  {
   "cell_type": "markdown",
   "metadata": {},
   "source": [
    "Ниже представлены методы, которые справились с задачей за 2 итерации. Точность у 'CG' и 'Powell' выше."
   ]
  },
  {
   "cell_type": "code",
   "execution_count": 31,
   "metadata": {
    "collapsed": false
   },
   "outputs": [
    {
     "name": "stdout",
     "output_type": "stream",
     "text": [
      "     fun: 3.0\n",
      "     jac: array([  0.00000000e+00,   2.98023224e-08])\n",
      " message: 'Optimization terminated successfully.'\n",
      "    nfev: 20\n",
      "     nit: 2\n",
      "    njev: 5\n",
      "  status: 0\n",
      " success: True\n",
      "       x: array([ 3.19999999,  0.10000001])\n"
     ]
    }
   ],
   "source": [
    "x_min = optimize.minimize(f, [5, 5], method='CG')\n",
    "print x_min"
   ]
  },
  {
   "cell_type": "code",
   "execution_count": 30,
   "metadata": {
    "collapsed": false
   },
   "outputs": [
    {
     "name": "stdout",
     "output_type": "stream",
     "text": [
      "   direc: array([[ 1.,  0.],\n",
      "       [ 0.,  1.]])\n",
      "     fun: 3.0\n",
      " message: 'Optimization terminated successfully.'\n",
      "    nfev: 92\n",
      "     nit: 2\n",
      "  status: 0\n",
      " success: True\n",
      "       x: array([ 3.19999999,  0.10000001])\n"
     ]
    }
   ],
   "source": [
    "x_min = optimize.minimize(f, [5, 5], method='Powell')\n",
    "print x_min"
   ]
  },
  {
   "cell_type": "code",
   "execution_count": 37,
   "metadata": {
    "collapsed": false
   },
   "outputs": [
    {
     "name": "stdout",
     "output_type": "stream",
     "text": [
      "     fun: 3.0000000000000058\n",
      "     jac: array([ -1.19209290e-07,   5.96046448e-08,   0.00000000e+00])\n",
      " message: 'Optimization terminated successfully.'\n",
      "    nfev: 9\n",
      "     nit: 2\n",
      "    njev: 2\n",
      "  status: 0\n",
      " success: True\n",
      "       x: array([ 3.19999993,  0.10000003])\n"
     ]
    }
   ],
   "source": [
    "x_min = optimize.minimize(f, [5, 5], method='SLSQP')\n",
    "print x_min"
   ]
  },
  {
   "cell_type": "code",
   "execution_count": 34,
   "metadata": {
    "collapsed": false
   },
   "outputs": [
    {
     "name": "stdout",
     "output_type": "stream",
     "text": [
      "      fun: 3.0000000000006546\n",
      " hess_inv: <2x2 LbfgsInvHessProduct with dtype=float64>\n",
      "      jac: array([  4.88498131e-07,  -1.55431223e-06])\n",
      "  message: 'CONVERGENCE: NORM_OF_PROJECTED_GRADIENT_<=_PGTOL'\n",
      "     nfev: 9\n",
      "      nit: 2\n",
      "   status: 0\n",
      "  success: True\n",
      "        x: array([ 3.20000025,  0.09999923])\n"
     ]
    }
   ],
   "source": [
    "x_min = optimize.minimize(f, [5, 5], method='L-BFGS-B')\n",
    "print x_min"
   ]
  },
  {
   "cell_type": "markdown",
   "metadata": {},
   "source": [
    "## 2. Продвинутый уровень: изучаем изменения в документации sklearn"
   ]
  },
  {
   "cell_type": "markdown",
   "metadata": {},
   "source": [
    "Установите себе самую свежую версию sklearn. В ней метод train_test_split должен быть в модуле model_selection, а не в cross_validation, как в старых версиях и в блокноте с лекции. Перепишите код с лекции так, чтобы вместо модуля sklearn.cross_validation он использовал sklearn.model_selection, и по-прежнему работал (продемонстрируйте это). Будьте внимательны к документации - сигнатура некоторых функций изменилась."
   ]
  },
  {
   "cell_type": "markdown",
   "metadata": {},
   "source": [
    "## 3. Сложный уровень: творческая часть"
   ]
  },
  {
   "cell_type": "markdown",
   "metadata": {},
   "source": [
    "1. Заполните, пожалуйста, форму обратной связи по курсу: https://docs.google.com/forms/d/1aBPfORE8T3upInordGxPXZQiOPk4gFsIzvlimWerh7w Любые Ваши предложения могут быть очень ценны для нас, не стесняйтесь написать все, что думаете :)\n",
    "1. Выберите любой модуль из не рассмотренных на последней лекции (можно взять любой из рекомендованных, можно любой на ваше усмотрение), напишите, зачем его используют и покажите несколько простых примеров его применения, предварительно разобравшись с ними в документации."
   ]
  },
  {
   "cell_type": "markdown",
   "metadata": {},
   "source": [
    "1. Заполнил.\n",
    "2. Выбрал модуль json."
   ]
  },
  {
   "cell_type": "markdown",
   "metadata": {},
   "source": [
    "Модуль json позволяет кодировать и декодировать данные в формате json. json расшифровывается как JavaScript Object Notation. Это простой формат обмена данными, основанный на подмножестве синтаксиса JavaScript. В качестве примера работы с ним взял за основу задачу из базовой части 2-го ДЗ."
   ]
  },
  {
   "cell_type": "code",
   "execution_count": 40,
   "metadata": {
    "collapsed": true
   },
   "outputs": [],
   "source": [
    "reviews = [\"\"\"Телефон абонента: +7 916 000 00 01\n",
    "Время: 10:34\n",
    "Дата: 20.05.2017\n",
    "Оценка: 1\n",
    "Длительность разговора (мин.): 0:32\n",
    "Комментарий: Общение с сотрудником вашей техподдержки мне не понравилось. Раньше всегда отвечала девушка с приятным голосом, а сегодня какой-то мужчина. Совсем никуда не годится, примите меры!!!\"\"\",\n",
    "\"\"\"Телефон абонента: +7 916 000 00 02\n",
    "Время: 9:20\n",
    "Дата: 21.05.2017\n",
    "Оценка: 5\n",
    "Длительность разговора (мин.): 25:07\n",
    "Комментарий: С моей проблемой мне помогли, большое спасибо!\"\"\"]"
   ]
  },
  {
   "cell_type": "code",
   "execution_count": 41,
   "metadata": {
    "collapsed": true
   },
   "outputs": [],
   "source": [
    "my_base = {}\n",
    "for info in reviews:\n",
    "    strings = info.split('\\n')\n",
    "    my_base[strings[0].split(': ')[1]] = {param.split(': ')[0]: param.split(': ')[1] for param in strings[1:]}"
   ]
  },
  {
   "cell_type": "code",
   "execution_count": 44,
   "metadata": {
    "collapsed": false
   },
   "outputs": [],
   "source": [
    "import json\n",
    "\n",
    "# пример записи словаря в json-файл\n",
    "with open('test_json_file.json', 'w') as test_dump_file:\n",
    "    json.dump(my_base, test_dump_file)\n",
    "\n",
    "# пример чтения из json-файла\n",
    "with open('test_json_file.json', 'r') as test_dump_file:\n",
    "    dict_from_json = json.load(test_dump_file)"
   ]
  },
  {
   "cell_type": "code",
   "execution_count": 53,
   "metadata": {
    "collapsed": false
   },
   "outputs": [
    {
     "name": "stdout",
     "output_type": "stream",
     "text": [
      "{\"+7 916 000 00 02\": {\"\\u041e\\u0446\\u0435\\u043d\\u043a\\u0430\": \"5\", \"\\u0412\\u0440\\u0435\\u043c\\u044f\": \"9:20\", \"\\u041a\\u043e\\u043c\\u043c\\u0435\\u043d\\u0442\\u0430\\u0440\\u0438\\u0439\": \"\\u0421 \\u043c\\u043e\\u0435\\u0439 \\u043f\\u0440\\u043e\\u0431\\u043b\\u0435\\u043c\\u043e\\u0439 \\u043c\\u043d\\u0435 \\u043f\\u043e\\u043c\\u043e\\u0433\\u043b\\u0438, \\u0431\\u043e\\u043b\\u044c\\u0448\\u043e\\u0435 \\u0441\\u043f\\u0430\\u0441\\u0438\\u0431\\u043e!\", \"\\u0414\\u0430\\u0442\\u0430\": \"21.05.2017\", \"\\u0414\\u043b\\u0438\\u0442\\u0435\\u043b\\u044c\\u043d\\u043e\\u0441\\u0442\\u044c \\u0440\\u0430\\u0437\\u0433\\u043e\\u0432\\u043e\\u0440\\u0430 (\\u043c\\u0438\\u043d.)\": \"25:07\"}, \"+7 916 000 00 01\": {\"\\u041e\\u0446\\u0435\\u043d\\u043a\\u0430\": \"1\", \"\\u0412\\u0440\\u0435\\u043c\\u044f\": \"10:34\", \"\\u041a\\u043e\\u043c\\u043c\\u0435\\u043d\\u0442\\u0430\\u0440\\u0438\\u0439\": \"\\u041e\\u0431\\u0449\\u0435\\u043d\\u0438\\u0435 \\u0441 \\u0441\\u043e\\u0442\\u0440\\u0443\\u0434\\u043d\\u0438\\u043a\\u043e\\u043c \\u0432\\u0430\\u0448\\u0435\\u0439 \\u0442\\u0435\\u0445\\u043f\\u043e\\u0434\\u0434\\u0435\\u0440\\u0436\\u043a\\u0438 \\u043c\\u043d\\u0435 \\u043d\\u0435 \\u043f\\u043e\\u043d\\u0440\\u0430\\u0432\\u0438\\u043b\\u043e\\u0441\\u044c. \\u0420\\u0430\\u043d\\u044c\\u0448\\u0435 \\u0432\\u0441\\u0435\\u0433\\u0434\\u0430 \\u043e\\u0442\\u0432\\u0435\\u0447\\u0430\\u043b\\u0430 \\u0434\\u0435\\u0432\\u0443\\u0448\\u043a\\u0430 \\u0441 \\u043f\\u0440\\u0438\\u044f\\u0442\\u043d\\u044b\\u043c \\u0433\\u043e\\u043b\\u043e\\u0441\\u043e\\u043c, \\u0430 \\u0441\\u0435\\u0433\\u043e\\u0434\\u043d\\u044f \\u043a\\u0430\\u043a\\u043e\\u0439-\\u0442\\u043e \\u043c\\u0443\\u0436\\u0447\\u0438\\u043d\\u0430. \\u0421\\u043e\\u0432\\u0441\\u0435\\u043c \\u043d\\u0438\\u043a\\u0443\\u0434\\u0430 \\u043d\\u0435 \\u0433\\u043e\\u0434\\u0438\\u0442\\u0441\\u044f, \\u043f\\u0440\\u0438\\u043c\\u0438\\u0442\\u0435 \\u043c\\u0435\\u0440\\u044b!!!\", \"\\u0414\\u0430\\u0442\\u0430\": \"20.05.2017\", \"\\u0414\\u043b\\u0438\\u0442\\u0435\\u043b\\u044c\\u043d\\u043e\\u0441\\u0442\\u044c \\u0440\\u0430\\u0437\\u0433\\u043e\\u0432\\u043e\\u0440\\u0430 (\\u043c\\u0438\\u043d.)\": \"0:32\"}}\n"
     ]
    }
   ],
   "source": [
    "# Содержание файла\n",
    "!type test_json_file.json"
   ]
  }
 ],
 "metadata": {
  "anaconda-cloud": {},
  "kernelspec": {
   "display_name": "Python 2",
   "language": "python",
   "name": "python2"
  },
  "language_info": {
   "codemirror_mode": {
    "name": "ipython",
    "version": 2
   },
   "file_extension": ".py",
   "mimetype": "text/x-python",
   "name": "python",
   "nbconvert_exporter": "python",
   "pygments_lexer": "ipython2",
   "version": "2.7.13"
  }
 },
 "nbformat": 4,
 "nbformat_minor": 1
}
