{
 "cells": [
  {
   "cell_type": "markdown",
   "metadata": {},
   "source": [
    "# Базовая часть"
   ]
  },
  {
   "cell_type": "markdown",
   "metadata": {},
   "source": [
    "Рассмотрим задание 2 из лекции. При анализе отзывов на работу техподдержки вы считали массив из отзывов (для простоты отзыва приведено всего два, но могло быть и больше):"
   ]
  },
  {
   "cell_type": "code",
   "execution_count": 1,
   "metadata": {
    "collapsed": true
   },
   "outputs": [],
   "source": [
    "reviews = [\"\"\"Телефон абонента: +7 916 000 00 01\n",
    "Время: 10:34\n",
    "Дата: 20.05.2017\n",
    "Оценка: 1\n",
    "Длительность разговора (мин.): 0:32\n",
    "Комментарий: Общение с сотрудником вашей техподдержки мне не понравилось. Раньше всегда отвечала девушка с приятным голосом, а сегодня какой-то мужчина. Совсем никуда не годится, примите меры!!!\"\"\",\n",
    "\"\"\"Телефон абонента: +7 916 000 00 02\n",
    "Время: 9:20\n",
    "Дата: 21.05.2017\n",
    "Оценка: 5\n",
    "Длительность разговора (мин.): 25:07\n",
    "Комментарий: С моей проблемой мне помогли, большое спасибо!\"\"\"]"
   ]
  },
  {
   "cell_type": "markdown",
   "metadata": {},
   "source": [
    "Сформируйте на основе этого массива словарь my_base, в котором по ключу в виде строки с телефоном абонента будет храниться другой словарь. Внутренний словарь по ключам в виде названий полей отзыва должен хранить значение полей (в виде строк). Например, код ниже должен выдать True:"
   ]
  },
  {
   "cell_type": "code",
   "execution_count": null,
   "metadata": {
    "collapsed": true
   },
   "outputs": [],
   "source": [
    "my_base['+7 916 000 00 01']['Дата'] == '20.05.2017'"
   ]
  },
  {
   "cell_type": "markdown",
   "metadata": {},
   "source": [
    "Обратите внимание, что вам могут немного мешать пробелы после знаков \":\""
   ]
  },
  {
   "cell_type": "markdown",
   "metadata": {},
   "source": [
    "#### Вариант №1 (явный)"
   ]
  },
  {
   "cell_type": "code",
   "execution_count": 2,
   "metadata": {
    "collapsed": false
   },
   "outputs": [
    {
     "data": {
      "text/plain": [
       "True"
      ]
     },
     "execution_count": 2,
     "metadata": {},
     "output_type": "execute_result"
    }
   ],
   "source": [
    "my_base = {}\n",
    "for info in reviews:\n",
    "    strings = info.split('\\n')\n",
    "    main_key = strings[0].split(': ')[1]\n",
    "    internal_dict = {}\n",
    "    for param in strings[1:]:\n",
    "        key, value = param.split(': ')\n",
    "        internal_dict[key] = value\n",
    "    my_base[main_key] = internal_dict\n",
    "my_base['+7 916 000 00 01']['Дата'] == '20.05.2017'"
   ]
  },
  {
   "cell_type": "markdown",
   "metadata": {},
   "source": [
    "#### Вариант №2 (с использованием генератора словарей)"
   ]
  },
  {
   "cell_type": "code",
   "execution_count": 3,
   "metadata": {
    "collapsed": false
   },
   "outputs": [
    {
     "data": {
      "text/plain": [
       "True"
      ]
     },
     "execution_count": 3,
     "metadata": {},
     "output_type": "execute_result"
    }
   ],
   "source": [
    "my_base = {}\n",
    "for info in reviews:\n",
    "    strings = info.split('\\n')\n",
    "    my_base[strings[0].split(': ')[1]] = {param.split(': ')[0]: param.split(': ')[1] for param in strings[1:]}\n",
    "my_base['+7 916 000 00 01']['Время'] == '10:34'"
   ]
  },
  {
   "cell_type": "markdown",
   "metadata": {},
   "source": [
    "#### Вариант №3 (однострочный, запутанный, неудобный в сопровождении)"
   ]
  },
  {
   "cell_type": "code",
   "execution_count": 4,
   "metadata": {
    "collapsed": false
   },
   "outputs": [
    {
     "data": {
      "text/plain": [
       "True"
      ]
     },
     "execution_count": 4,
     "metadata": {},
     "output_type": "execute_result"
    }
   ],
   "source": [
    "my_base = {info.split('\\n')[0].split(': ')[1]: {param.split(': ')[0]: param.split(': ')[1] for param in info.split('\\n')[1:]} for info in reviews}\n",
    "my_base['+7 916 000 00 02']['Оценка'] == '5'"
   ]
  },
  {
   "cell_type": "markdown",
   "metadata": {},
   "source": [
    "# Продвинутая часть"
   ]
  },
  {
   "cell_type": "markdown",
   "metadata": {},
   "source": [
    "Попробуйте выполнить предыдущее задание, но теперь обеспечив хранение полей из отзыва в словаре в тех типах данных, которые на ваш взгляд наиболее уместны. Подумайте, что делать с датой и временем. Возможно вам покажется полезным немного воспользоваться поисковиком или документацией к Python, а может быть вам хватит стандартных типов данных.\n",
    "Объясните свой выбор в комментариях к коду или markdown ячейках и продемонстрируйте, что поля имеют нужный тип."
   ]
  },
  {
   "cell_type": "markdown",
   "metadata": {},
   "source": [
    "#### Ответ:\n",
    "В python среди стандартных модулей есть модуль datetime для работы с датами и временем. Приведя время и дату к типу данных datetime, у нас появится возможность производить всяческие вычисления с датой, а также достаточно легко задавать любой формат отображения даты и времени без изобретения собственных \"велосипедов\" по парсингу строк с датами.\n",
    "\n",
    "Произведем преобразование всех значений в словаре, которые так или иначе связаны с временем в тип datetime."
   ]
  },
  {
   "cell_type": "code",
   "execution_count": 5,
   "metadata": {
    "collapsed": true
   },
   "outputs": [],
   "source": [
    "# импортируем необходимые классы из модуля\n",
    "from datetime import datetime, timedelta\n",
    "\n",
    "# пробегаемся циклом по словарю и производим преобразование типов и переприсваивание значений у соответствующих ключей\n",
    "for subs in my_base:\n",
    "    my_base[subs]['Дата'] = datetime.strptime(my_base[subs]['Дата'], '%d.%m.%Y')\n",
    "    hrs, mins = my_base[subs]['Время'].split(':')\n",
    "    my_base[subs]['Время'] = timedelta(hours=int(hrs), minutes=int(mins))\n",
    "    min_dur, sec_dur = my_base[subs]['Длительность разговора (мин.)'].split(':')\n",
    "    my_base[subs]['Длительность разговора (мин.)'] = timedelta(minutes=int(min_dur), seconds=int(sec_dur))"
   ]
  },
  {
   "cell_type": "markdown",
   "metadata": {},
   "source": [
    "Убедимся в том, что данные теперь хранятся с типом datetime:"
   ]
  },
  {
   "cell_type": "code",
   "execution_count": 6,
   "metadata": {
    "collapsed": false
   },
   "outputs": [
    {
     "name": "stdout",
     "output_type": "stream",
     "text": [
      "<type 'datetime.datetime'> <type 'datetime.timedelta'> <type 'datetime.timedelta'>\n",
      "<type 'datetime.datetime'> <type 'datetime.timedelta'> <type 'datetime.timedelta'>\n"
     ]
    }
   ],
   "source": [
    "for subs in my_base:\n",
    "    print type(my_base[subs]['Дата']), type(my_base[subs]['Время']), type(my_base[subs]['Длительность разговора (мин.)'])"
   ]
  },
  {
   "cell_type": "markdown",
   "metadata": {},
   "source": [
    "В качестве примера работы с датами придумал следующую задачу:\n",
    "\n",
    "    Необходимо вывести на экран данные о всех абонентах, разговор техподдержки с которыми закончился не позднее 5 суток от текущего времени. В выводе должны присутствовать номер абонента, а также время начала и окончания вызова в формате dd/mm/yy hh:mm:ss."
   ]
  },
  {
   "cell_type": "code",
   "execution_count": 7,
   "metadata": {
    "collapsed": false
   },
   "outputs": [
    {
     "name": "stdout",
     "output_type": "stream",
     "text": [
      "Время на момент выборки: 25/05/17 13:25:45\n",
      "------------------------------------------------------------\n",
      "Абонент:\t\t\t| +7 916 000 00 02\n",
      "Дата и время начала вызова:\t| 21/05/17 09:20:00\n",
      "Дата и время окончания вызова:\t| 21/05/17 09:45:07\n",
      "------------------------------------------------------------\n"
     ]
    }
   ],
   "source": [
    "for subs in my_base:\n",
    "    date = my_base[subs]['Дата']\n",
    "    time = my_base[subs]['Время']\n",
    "    duration = my_base[subs]['Длительность разговора (мин.)']\n",
    "    if datetime.now() < date + time + duration + timedelta(days=5):\n",
    "        start_call_datetime = (date + time).strftime('%d/%m/%y %H:%M:%S')\n",
    "        end_call_datetime = (date + time + duration).strftime('%d/%m/%y %H:%M:%S')\n",
    "        print 'Время на момент выборки:', datetime.now().strftime('%d/%m/%y %H:%M:%S')\n",
    "        print '-'*60\n",
    "        print 'Абонент:\\t\\t\\t| %s' %subs\n",
    "        print 'Дата и время начала вызова:\\t| %s' %start_call_datetime\n",
    "        print 'Дата и время окончания вызова:\\t| %s' %end_call_datetime\n",
    "        print '-'*60"
   ]
  },
  {
   "cell_type": "markdown",
   "metadata": {},
   "source": [
    "# Сложная часть"
   ]
  },
  {
   "cell_type": "markdown",
   "metadata": {},
   "source": [
    "На лекции было рассказано про неизменяемые типы, в частности про tuple. Подумайте, можно ли \"сломать\" неизменяемость tuple? Как сделать tuple изменяемым? Можно ли будет его добавить в множество или использовать в качестве ключа в словаре?"
   ]
  },
  {
   "cell_type": "markdown",
   "metadata": {},
   "source": [
    "### Ответ:\n",
    "    \"Сломать\" можно, если в качестве одного из элементов кортежа использовать изменяемый тип данных. В случае попытки использовать такой кортеж в качестве ключа для словаря или же во множестве, получим ошибку \"TypeError: unhashable type\":"
   ]
  },
  {
   "cell_type": "markdown",
   "metadata": {},
   "source": [
    "#### Пример №1 (со списком внутри кортежа)"
   ]
  },
  {
   "cell_type": "code",
   "execution_count": 8,
   "metadata": {
    "collapsed": false
   },
   "outputs": [
    {
     "name": "stdout",
     "output_type": "stream",
     "text": [
      "(1, [2, 4], 3)\n",
      "(1, [2, 4, 6], 3)\n"
     ]
    }
   ],
   "source": [
    "my_list = [2, 4]\n",
    "my_tuple = (1, my_list, 3)\n",
    "print my_tuple\n",
    "my_list.append(6)\n",
    "print my_tuple"
   ]
  },
  {
   "cell_type": "code",
   "execution_count": 9,
   "metadata": {
    "collapsed": false
   },
   "outputs": [
    {
     "ename": "TypeError",
     "evalue": "unhashable type: 'list'",
     "output_type": "error",
     "traceback": [
      "\u001b[0;31m---------------------------------------------------------------------------\u001b[0m",
      "\u001b[0;31mTypeError\u001b[0m                                 Traceback (most recent call last)",
      "\u001b[0;32m<ipython-input-9-180332218dc7>\u001b[0m in \u001b[0;36m<module>\u001b[0;34m()\u001b[0m\n\u001b[0;32m----> 1\u001b[0;31m \u001b[0mtest_dict\u001b[0m \u001b[1;33m=\u001b[0m \u001b[1;33m{\u001b[0m\u001b[0mmy_tuple\u001b[0m\u001b[1;33m:\u001b[0m \u001b[1;34m'test'\u001b[0m\u001b[1;33m}\u001b[0m\u001b[1;33m\u001b[0m\u001b[0m\n\u001b[0m",
      "\u001b[0;31mTypeError\u001b[0m: unhashable type: 'list'"
     ]
    }
   ],
   "source": [
    "test_dict = {my_tuple: 'test'}"
   ]
  },
  {
   "cell_type": "code",
   "execution_count": 10,
   "metadata": {
    "collapsed": false
   },
   "outputs": [
    {
     "ename": "TypeError",
     "evalue": "unhashable type: 'list'",
     "output_type": "error",
     "traceback": [
      "\u001b[0;31m---------------------------------------------------------------------------\u001b[0m",
      "\u001b[0;31mTypeError\u001b[0m                                 Traceback (most recent call last)",
      "\u001b[0;32m<ipython-input-10-8819c80a8512>\u001b[0m in \u001b[0;36m<module>\u001b[0;34m()\u001b[0m\n\u001b[0;32m----> 1\u001b[0;31m \u001b[0mtest_set\u001b[0m \u001b[1;33m=\u001b[0m \u001b[0mset\u001b[0m\u001b[1;33m(\u001b[0m\u001b[0mmy_tuple\u001b[0m\u001b[1;33m)\u001b[0m\u001b[1;33m\u001b[0m\u001b[0m\n\u001b[0m",
      "\u001b[0;31mTypeError\u001b[0m: unhashable type: 'list'"
     ]
    }
   ],
   "source": [
    "test_set = set(my_tuple)"
   ]
  },
  {
   "cell_type": "markdown",
   "metadata": {},
   "source": [
    "#### Пример №2 (с множеством внутри кортежа)"
   ]
  },
  {
   "cell_type": "code",
   "execution_count": 11,
   "metadata": {
    "collapsed": false
   },
   "outputs": [
    {
     "name": "stdout",
     "output_type": "stream",
     "text": [
      "(1, set(['1', '3', '2']), 3)\n",
      "(1, set(['1', '3', '2', '4']), 3)\n"
     ]
    }
   ],
   "source": [
    "my_set = set('123')\n",
    "my_tuple2 = (1, my_set, 3)\n",
    "print my_tuple2\n",
    "my_set.add('4')\n",
    "print my_tuple2"
   ]
  },
  {
   "cell_type": "code",
   "execution_count": 12,
   "metadata": {
    "collapsed": false
   },
   "outputs": [
    {
     "ename": "TypeError",
     "evalue": "unhashable type: 'set'",
     "output_type": "error",
     "traceback": [
      "\u001b[0;31m---------------------------------------------------------------------------\u001b[0m",
      "\u001b[0;31mTypeError\u001b[0m                                 Traceback (most recent call last)",
      "\u001b[0;32m<ipython-input-12-4a9831790219>\u001b[0m in \u001b[0;36m<module>\u001b[0;34m()\u001b[0m\n\u001b[0;32m----> 1\u001b[0;31m \u001b[0mtest_dict\u001b[0m \u001b[1;33m=\u001b[0m \u001b[1;33m{\u001b[0m\u001b[0mmy_tuple2\u001b[0m\u001b[1;33m:\u001b[0m \u001b[1;34m'test'\u001b[0m\u001b[1;33m}\u001b[0m\u001b[1;33m\u001b[0m\u001b[0m\n\u001b[0m",
      "\u001b[0;31mTypeError\u001b[0m: unhashable type: 'set'"
     ]
    }
   ],
   "source": [
    "test_dict = {my_tuple2: 'test'}"
   ]
  },
  {
   "cell_type": "code",
   "execution_count": 13,
   "metadata": {
    "collapsed": false
   },
   "outputs": [
    {
     "ename": "TypeError",
     "evalue": "unhashable type: 'set'",
     "output_type": "error",
     "traceback": [
      "\u001b[0;31m---------------------------------------------------------------------------\u001b[0m",
      "\u001b[0;31mTypeError\u001b[0m                                 Traceback (most recent call last)",
      "\u001b[0;32m<ipython-input-13-43ca6200e89a>\u001b[0m in \u001b[0;36m<module>\u001b[0;34m()\u001b[0m\n\u001b[1;32m      1\u001b[0m \u001b[0mtest_set\u001b[0m \u001b[1;33m=\u001b[0m \u001b[0mset\u001b[0m\u001b[1;33m(\u001b[0m\u001b[1;34m'135'\u001b[0m\u001b[1;33m)\u001b[0m\u001b[1;33m\u001b[0m\u001b[0m\n\u001b[0;32m----> 2\u001b[0;31m \u001b[0mtest_set\u001b[0m\u001b[1;33m.\u001b[0m\u001b[0madd\u001b[0m\u001b[1;33m(\u001b[0m\u001b[0mmy_set\u001b[0m\u001b[1;33m)\u001b[0m\u001b[1;33m\u001b[0m\u001b[0m\n\u001b[0m",
      "\u001b[0;31mTypeError\u001b[0m: unhashable type: 'set'"
     ]
    }
   ],
   "source": [
    "test_set = set('135')\n",
    "test_set.add(my_set)"
   ]
  }
 ],
 "metadata": {
  "anaconda-cloud": {},
  "kernelspec": {
   "display_name": "Python 2",
   "language": "python",
   "name": "python2"
  },
  "language_info": {
   "codemirror_mode": {
    "name": "ipython",
    "version": 2
   },
   "file_extension": ".py",
   "mimetype": "text/x-python",
   "name": "python",
   "nbconvert_exporter": "python",
   "pygments_lexer": "ipython2",
   "version": "2.7.13"
  }
 },
 "nbformat": 4,
 "nbformat_minor": 1
}
